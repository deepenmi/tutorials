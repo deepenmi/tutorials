{
  "nbformat": 4,
  "nbformat_minor": 0,
  "metadata": {
    "colab": {
      "name": "LinearRegression-Pytorch.ipynb",
      "provenance": [],
      "include_colab_link": true
    },
    "kernelspec": {
      "name": "python3",
      "display_name": "Python 3"
    }
  },
  "cells": [
    {
      "cell_type": "markdown",
      "metadata": {
        "id": "view-in-github",
        "colab_type": "text"
      },
      "source": [
        "<a href=\"https://colab.research.google.com/github/deepenmi/tutorials/blob/master/LinearRegression_Pytorch.ipynb\" target=\"_parent\"><img src=\"https://colab.research.google.com/assets/colab-badge.svg\" alt=\"Open In Colab\"/></a>"
      ]
    },
    {
      "cell_type": "code",
      "metadata": {
        "id": "jZDChQ8M00hX",
        "colab_type": "code",
        "colab": {}
      },
      "source": [
        "import torch"
      ],
      "execution_count": 0,
      "outputs": []
    },
    {
      "cell_type": "code",
      "metadata": {
        "id": "9ehbKpcB1r_g",
        "colab_type": "code",
        "colab": {}
      },
      "source": [
        "w = torch.tensor(3.0, requires_grad=True)\n",
        "b = torch.tensor(1.0, requires_grad=True)\n",
        "\n",
        "\n"
      ],
      "execution_count": 0,
      "outputs": []
    },
    {
      "cell_type": "code",
      "metadata": {
        "id": "1RC5UOOS2TuC",
        "colab_type": "code",
        "colab": {}
      },
      "source": [
        "def forward(x):\n",
        "  y = w*x + b\n",
        "  return y "
      ],
      "execution_count": 0,
      "outputs": []
    },
    {
      "cell_type": "code",
      "metadata": {
        "id": "ehIfw_gE2gb3",
        "colab_type": "code",
        "colab": {
          "base_uri": "https://localhost:8080/",
          "height": 52
        },
        "outputId": "675f7051-db68-4d7e-e1a7-9fb251391592"
      },
      "source": [
        "x = torch.tensor([[4],[7]])\n",
        "forward(x)"
      ],
      "execution_count": 4,
      "outputs": [
        {
          "output_type": "execute_result",
          "data": {
            "text/plain": [
              "tensor([[13.],\n",
              "        [22.]], grad_fn=<AddBackward0>)"
            ]
          },
          "metadata": {
            "tags": []
          },
          "execution_count": 4
        }
      ]
    },
    {
      "cell_type": "markdown",
      "metadata": {
        "id": "MSd0oF3j3Td5",
        "colab_type": "text"
      },
      "source": [
        "# Linear Class"
      ]
    },
    {
      "cell_type": "code",
      "metadata": {
        "id": "qyXASR7B2pgh",
        "colab_type": "code",
        "colab": {}
      },
      "source": [
        "import torch\n",
        "from torch.nn import Linear\n"
      ],
      "execution_count": 0,
      "outputs": []
    },
    {
      "cell_type": "code",
      "metadata": {
        "id": "57mAXA1q3g_G",
        "colab_type": "code",
        "colab": {
          "base_uri": "https://localhost:8080/",
          "height": 70
        },
        "outputId": "7f53d69a-5f53-4707-fa59-f6669b102c34"
      },
      "source": [
        "torch.manual_seed(1)\n",
        "model = Linear(in_features=1, out_features=1)\n",
        "print(model.bias, model.weight)"
      ],
      "execution_count": 6,
      "outputs": [
        {
          "output_type": "stream",
          "text": [
            "Parameter containing:\n",
            "tensor([-0.4414], requires_grad=True) Parameter containing:\n",
            "tensor([[0.5153]], requires_grad=True)\n"
          ],
          "name": "stdout"
        }
      ]
    },
    {
      "cell_type": "code",
      "metadata": {
        "id": "C-D40WEP3-P9",
        "colab_type": "code",
        "colab": {
          "base_uri": "https://localhost:8080/",
          "height": 52
        },
        "outputId": "ae6e6f36-5e4b-4df9-f34c-bfc6c2637b59"
      },
      "source": [
        "x = torch.tensor([[2.0],[3.3]])\n",
        "print(model(x))"
      ],
      "execution_count": 7,
      "outputs": [
        {
          "output_type": "stream",
          "text": [
            "tensor([[0.5891],\n",
            "        [1.2590]], grad_fn=<AddmmBackward>)\n"
          ],
          "name": "stdout"
        }
      ]
    },
    {
      "cell_type": "markdown",
      "metadata": {
        "id": "5HFBGuh2Eyc4",
        "colab_type": "text"
      },
      "source": [
        "# Custom Modules"
      ]
    },
    {
      "cell_type": "code",
      "metadata": {
        "id": "2H-fJ5aHE1Uw",
        "colab_type": "code",
        "colab": {}
      },
      "source": [
        "import torch\n",
        "import torch.nn as nn \n",
        "class LR(nn.Module):\n",
        "  def __init__(self, input_size, output_size):\n",
        "    super().__init__()\n",
        "    self.linear = nn.Linear(input_size, output_size)\n",
        "  def forward(self,x):\n",
        "    pred = self.linear(x)\n",
        "    return pred"
      ],
      "execution_count": 0,
      "outputs": []
    },
    {
      "cell_type": "code",
      "metadata": {
        "id": "rsjf_OMiHP6o",
        "colab_type": "code",
        "colab": {}
      },
      "source": [
        "torch.manual_seed(1)\n",
        "model = LR(1,1)\n"
      ],
      "execution_count": 0,
      "outputs": []
    },
    {
      "cell_type": "code",
      "metadata": {
        "id": "pMnuqcqMHVbj",
        "colab_type": "code",
        "colab": {
          "base_uri": "https://localhost:8080/",
          "height": 70
        },
        "outputId": "c7745b4c-e30f-48d6-f584-f1653f29a43c"
      },
      "source": [
        "print(list(model.parameters()))"
      ],
      "execution_count": 10,
      "outputs": [
        {
          "output_type": "stream",
          "text": [
            "[Parameter containing:\n",
            "tensor([[0.5153]], requires_grad=True), Parameter containing:\n",
            "tensor([-0.4414], requires_grad=True)]\n"
          ],
          "name": "stdout"
        }
      ]
    },
    {
      "cell_type": "code",
      "metadata": {
        "id": "H9EVRcmO4RIY",
        "colab_type": "code",
        "colab": {
          "base_uri": "https://localhost:8080/",
          "height": 52
        },
        "outputId": "dc9a9634-eea4-4076-9a23-68e81634a93a"
      },
      "source": [
        "x = torch.tensor([[1.0], [2.0]])\n",
        "print(model.forward(x))"
      ],
      "execution_count": 11,
      "outputs": [
        {
          "output_type": "stream",
          "text": [
            "tensor([[0.0739],\n",
            "        [0.5891]], grad_fn=<AddmmBackward>)\n"
          ],
          "name": "stdout"
        }
      ]
    },
    {
      "cell_type": "markdown",
      "metadata": {
        "id": "ewoBQt1hJPSd",
        "colab_type": "text"
      },
      "source": [
        "# Creating Datasets"
      ]
    },
    {
      "cell_type": "code",
      "metadata": {
        "id": "FioukKJMJSzv",
        "colab_type": "code",
        "colab": {
          "base_uri": "https://localhost:8080/",
          "height": 296
        },
        "outputId": "5e4c8b95-d281-4951-97a9-449d7a04b3ef"
      },
      "source": [
        "import torch\n",
        "import torch.nn as nn\n",
        "import matplotlib.pyplot as plt\n",
        "import numpy as np\n",
        "\n",
        "x = torch.randn(100, 1)*10\n",
        "y = x + 3*torch.randn(100,1)\n",
        "plt.plot(x.numpy(), y.numpy(), 'o')\n",
        "plt.ylabel('y')\n",
        "plt.xlabel('x')\n"
      ],
      "execution_count": 1,
      "outputs": [
        {
          "output_type": "execute_result",
          "data": {
            "text/plain": [
              "Text(0.5, 0, 'x')"
            ]
          },
          "metadata": {
            "tags": []
          },
          "execution_count": 1
        },
        {
          "output_type": "display_data",
          "data": {
            "image/png": "[encoded data removed]",
            "text/plain": [
              "<Figure size 432x288 with 1 Axes>"
            ]
          },
          "metadata": {
            "tags": []
          }
        }
      ]
    },
    {
      "cell_type": "code",
      "metadata": {
        "id": "zzGXNi2AJw8f",
        "colab_type": "code",
        "colab": {}
      },
      "source": [
        "class LR(nn.Module):\n",
        "  def __init__(self, input_size, output_size):\n",
        "    super().__init__()\n",
        "    self.linear = nn.Linear(input_size, output_size)\n",
        "  def forward(self,x):\n",
        "    pred = self.linear(x)\n",
        "    return pred"
      ],
      "execution_count": 0,
      "outputs": []
    },
    {
      "cell_type": "code",
      "metadata": {
        "id": "_5eBiQk9Kc9M",
        "colab_type": "code",
        "colab": {
          "base_uri": "https://localhost:8080/",
          "height": 70
        },
        "outputId": "0b3ce712-83d7-40c3-e721-5bfd5c04c819"
      },
      "source": [
        "torch.manual_seed(1)\n",
        "model = LR(1,1)\n",
        "print(model)"
      ],
      "execution_count": 3,
      "outputs": [
        {
          "output_type": "stream",
          "text": [
            "LR(\n",
            "  (linear): Linear(in_features=1, out_features=1, bias=True)\n",
            ")\n"
          ],
          "name": "stdout"
        }
      ]
    },
    {
      "cell_type": "code",
      "metadata": {
        "id": "BjL1mZIWKgV8",
        "colab_type": "code",
        "colab": {}
      },
      "source": [
        "[w, b] = model.parameters()\n",
        "def get_params():\n",
        "  return (w[0][0].item(), b[0].item())"
      ],
      "execution_count": 0,
      "outputs": []
    },
    {
      "cell_type": "code",
      "metadata": {
        "id": "QqbuMKqhK4yg",
        "colab_type": "code",
        "colab": {}
      },
      "source": [
        "def plot_fit(title):\n",
        "  plt.title = title\n",
        "  w1, b1 = get_params()\n",
        "  x1 = np.array([-30, 30])\n",
        "  y1 = w1*x1 +b1\n",
        "  plt.plot(x1, y1, 'r')\n",
        "  plt.scatter(x,y)\n",
        "  plt.show()"
      ],
      "execution_count": 0,
      "outputs": []
    },
    {
      "cell_type": "code",
      "metadata": {
        "id": "w6lcMxQ_MI22",
        "colab_type": "code",
        "colab": {
          "base_uri": "https://localhost:8080/",
          "height": 264
        },
        "outputId": "b28fb481-96fe-4b1e-c16d-4132c8e96683"
      },
      "source": [
        "plot_fit('Inital Model')"
      ],
      "execution_count": 6,
      "outputs": [
        {
          "output_type": "display_data",
          "data": {
            "image/png": "[encoded data removed]",
            "text/plain": [
              "<Figure size 432x288 with 1 Axes>"
            ]
          },
          "metadata": {
            "tags": []
          }
        }
      ]
    },
    {
      "cell_type": "markdown",
      "metadata": {
        "id": "hOe5hy2gMo50",
        "colab_type": "text"
      },
      "source": [
        "# Loss Function\n"
      ]
    },
    {
      "cell_type": "code",
      "metadata": {
        "id": "6ectw8skK7QO",
        "colab_type": "code",
        "colab": {}
      },
      "source": [
        "criterion = nn.MSELoss()\n",
        "optimizer = torch.optim.SGD(model.parameters(), lr = 0.01)"
      ],
      "execution_count": 0,
      "outputs": []
    },
    {
      "cell_type": "code",
      "metadata": {
        "id": "DglBdajf8Wjn",
        "colab_type": "code",
        "colab": {
          "base_uri": "https://localhost:8080/",
          "height": 1000
        },
        "outputId": "0ffe7443-9d6a-4068-d626-a24bd70aa2d0"
      },
      "source": [
        "epochs = 100\n",
        "losses = []\n",
        "for i in range(epochs):\n",
        "  y_pred = model.forward(x)\n",
        "  loss = criterion(y_pred, y)\n",
        "  print(\"epoch:\", i, \"loss:\", loss.item())\n",
        "  losses.append(loss)\n",
        "  optimizer.zero_grad()\n",
        "  loss.backward()\n",
        "  optimizer.step()"
      ],
      "execution_count": 12,
      "outputs": [
        {
          "output_type": "stream",
          "text": [
            "epoch: 0 loss: 8.532516479492188\n",
            "epoch: 1 loss: 8.532431602478027\n",
            "epoch: 2 loss: 8.532349586486816\n",
            "epoch: 3 loss: 8.532271385192871\n",
            "epoch: 4 loss: 8.532196998596191\n",
            "epoch: 5 loss: 8.532124519348145\n",
            "epoch: 6 loss: 8.532055854797363\n",
            "epoch: 7 loss: 8.531989097595215\n",
            "epoch: 8 loss: 8.531925201416016\n",
            "epoch: 9 loss: 8.53186321258545\n",
            "epoch: 10 loss: 8.531804084777832\n",
            "epoch: 11 loss: 8.531746864318848\n",
            "epoch: 12 loss: 8.531693458557129\n",
            "epoch: 13 loss: 8.531641006469727\n",
            "epoch: 14 loss: 8.531591415405273\n",
            "epoch: 15 loss: 8.531542778015137\n",
            "epoch: 16 loss: 8.53149700164795\n",
            "epoch: 17 loss: 8.531452178955078\n",
            "epoch: 18 loss: 8.53140926361084\n",
            "epoch: 19 loss: 8.531368255615234\n",
            "epoch: 20 loss: 8.531329154968262\n",
            "epoch: 21 loss: 8.531291007995605\n",
            "epoch: 22 loss: 8.531254768371582\n",
            "epoch: 23 loss: 8.531219482421875\n",
            "epoch: 24 loss: 8.5311861038208\n",
            "epoch: 25 loss: 8.531153678894043\n",
            "epoch: 26 loss: 8.531123161315918\n",
            "epoch: 27 loss: 8.53109359741211\n",
            "epoch: 28 loss: 8.531064987182617\n",
            "epoch: 29 loss: 8.531037330627441\n",
            "epoch: 30 loss: 8.531011581420898\n",
            "epoch: 31 loss: 8.530985832214355\n",
            "epoch: 32 loss: 8.530961990356445\n",
            "epoch: 33 loss: 8.530938148498535\n",
            "epoch: 34 loss: 8.530916213989258\n",
            "epoch: 35 loss: 8.53089427947998\n",
            "epoch: 36 loss: 8.530874252319336\n",
            "epoch: 37 loss: 8.530854225158691\n",
            "epoch: 38 loss: 8.530834197998047\n",
            "epoch: 39 loss: 8.530816078186035\n",
            "epoch: 40 loss: 8.53079891204834\n",
            "epoch: 41 loss: 8.530781745910645\n",
            "epoch: 42 loss: 8.530765533447266\n",
            "epoch: 43 loss: 8.530750274658203\n",
            "epoch: 44 loss: 8.53073501586914\n",
            "epoch: 45 loss: 8.530720710754395\n",
            "epoch: 46 loss: 8.530707359313965\n",
            "epoch: 47 loss: 8.530694007873535\n",
            "epoch: 48 loss: 8.530680656433105\n",
            "epoch: 49 loss: 8.530668258666992\n",
            "epoch: 50 loss: 8.530656814575195\n",
            "epoch: 51 loss: 8.530645370483398\n",
            "epoch: 52 loss: 8.530634880065918\n",
            "epoch: 53 loss: 8.530624389648438\n",
            "epoch: 54 loss: 8.530614852905273\n",
            "epoch: 55 loss: 8.530604362487793\n",
            "epoch: 56 loss: 8.530595779418945\n",
            "epoch: 57 loss: 8.530587196350098\n",
            "epoch: 58 loss: 8.53057861328125\n",
            "epoch: 59 loss: 8.530570983886719\n",
            "epoch: 60 loss: 8.530562400817871\n",
            "epoch: 61 loss: 8.53055477142334\n",
            "epoch: 62 loss: 8.530548095703125\n",
            "epoch: 63 loss: 8.53054141998291\n",
            "epoch: 64 loss: 8.530533790588379\n",
            "epoch: 65 loss: 8.530527114868164\n",
            "epoch: 66 loss: 8.530521392822266\n",
            "epoch: 67 loss: 8.530515670776367\n",
            "epoch: 68 loss: 8.530509948730469\n",
            "epoch: 69 loss: 8.53050422668457\n",
            "epoch: 70 loss: 8.530499458312988\n",
            "epoch: 71 loss: 8.53049373626709\n",
            "epoch: 72 loss: 8.530488967895508\n",
            "epoch: 73 loss: 8.530484199523926\n",
            "epoch: 74 loss: 8.53048038482666\n",
            "epoch: 75 loss: 8.530475616455078\n",
            "epoch: 76 loss: 8.530471801757812\n",
            "epoch: 77 loss: 8.53046703338623\n",
            "epoch: 78 loss: 8.530463218688965\n",
            "epoch: 79 loss: 8.530460357666016\n",
            "epoch: 80 loss: 8.53045654296875\n",
            "epoch: 81 loss: 8.5304536819458\n",
            "epoch: 82 loss: 8.530450820922852\n",
            "epoch: 83 loss: 8.530447006225586\n",
            "epoch: 84 loss: 8.530444145202637\n",
            "epoch: 85 loss: 8.530441284179688\n",
            "epoch: 86 loss: 8.530438423156738\n",
            "epoch: 87 loss: 8.530435562133789\n",
            "epoch: 88 loss: 8.530433654785156\n",
            "epoch: 89 loss: 8.530430793762207\n",
            "epoch: 90 loss: 8.530428886413574\n",
            "epoch: 91 loss: 8.530426025390625\n",
            "epoch: 92 loss: 8.530424118041992\n",
            "epoch: 93 loss: 8.53042221069336\n",
            "epoch: 94 loss: 8.530420303344727\n",
            "epoch: 95 loss: 8.530418395996094\n",
            "epoch: 96 loss: 8.530415534973145\n",
            "epoch: 97 loss: 8.530414581298828\n",
            "epoch: 98 loss: 8.530413627624512\n",
            "epoch: 99 loss: 8.530410766601562\n"
          ],
          "name": "stdout"
        }
      ]
    },
    {
      "cell_type": "code",
      "metadata": {
        "id": "YM2N4Ro79m3r",
        "colab_type": "code",
        "colab": {
          "base_uri": "https://localhost:8080/",
          "height": 296
        },
        "outputId": "3a221dc4-6538-4790-f129-9643758b9005"
      },
      "source": [
        "plt.plot(range(epochs), losses)\n",
        "plt.ylabel('Loss')\n",
        "plt.xlabel('epoch')"
      ],
      "execution_count": 9,
      "outputs": [
        {
          "output_type": "execute_result",
          "data": {
            "text/plain": [
              "Text(0.5, 0, 'epoch')"
            ]
          },
          "metadata": {
            "tags": []
          },
          "execution_count": 9
        },
        {
          "output_type": "display_data",
          "data": {
            "image/png": "[encoded data removed]",
            "text/plain": [
              "<Figure size 432x288 with 1 Axes>"
            ]
          },
          "metadata": {
            "tags": []
          }
        }
      ]
    },
    {
      "cell_type": "code",
      "metadata": {
        "id": "Ivwb_mQB_Qh9",
        "colab_type": "code",
        "colab": {
          "base_uri": "https://localhost:8080/",
          "height": 264
        },
        "outputId": "423929a5-5dc6-4511-e9c0-57c738bf1b8b"
      },
      "source": [
        "plot_fit(\"Trained_Model\")"
      ],
      "execution_count": 10,
      "outputs": [
        {
          "output_type": "display_data",
          "data": {
            "image/png": "[encoded data removed]",
            "text/plain": [
              "<Figure size 432x288 with 1 Axes>"
            ]
          },
          "metadata": {
            "tags": []
          }
        }
      ]
    },
    {
      "cell_type": "code",
      "metadata": {
        "id": "N0LA0z8H_YHw",
        "colab_type": "code",
        "colab": {}
      },
      "source": [
        ""
      ],
      "execution_count": 0,
      "outputs": []
    }
  ]
}